{
 "cells": [
  {
   "cell_type": "code",
   "execution_count": 6,
   "id": "c3929436",
   "metadata": {},
   "outputs": [],
   "source": [
    "import os\n",
    "from pathlib import Path"
   ]
  },
  {
   "cell_type": "code",
   "execution_count": 30,
   "id": "55932984",
   "metadata": {},
   "outputs": [
    {
     "name": "stdout",
     "output_type": "stream",
     "text": [
      "The current folder is Data\n",
      "FILE INSIDE Data: .DS_Store\n",
      "Data/.DS_Store\n",
      "FILE INSIDE Data: xL1Snip.npy\n",
      "Data/xL1Snip.npy\n",
      "FILE INSIDE Data: HR_Data_snip.csv\n",
      "Data/HR_Data_snip.csv\n",
      "FILE INSIDE Data: CMap.csv\n",
      "Data/CMap.csv\n",
      "FILE INSIDE Data: xL2Snip.npy\n",
      "Data/xL2Snip.npy\n",
      "FILE INSIDE Data: xL1_D2_45dbw.npy\n",
      "Data/xL1_D2_45dbw.npy\n",
      "FILE INSIDE Data: Data_Binary.txt\n",
      "Data/Data_Binary.txt\n",
      "Found Digar Starter String in Data_Binary.txt\n",
      "     b'time20221118174517end \\xff\\x81Z\\x1b\\x00\\x00\\x00\\x88\\xa7\\xda\\xff\\x81\\xd3\\tq\\x00\\x00\\x80\\xbd\\xf3\\x01\\x00\\x04\\xfd}L\\x00\\x00'\n",
      "FILE INSIDE Data: Data_Binary.bin\n",
      "Data/Data_Binary.bin\n",
      "Found Digar Starter String in Data_Binary.bin\n",
      "     b'time20221118174517end \\xff\\x81Z\\x1b\\x00\\x00\\x00\\x88\\xa7\\xda\\xff\\x81\\xd3\\tq\\x00\\x00\\x80\\xbd\\xf3\\x01\\x00\\x04\\xfd}L\\x00\\x00'\n",
      "\n"
     ]
    }
   ],
   "source": [
    "for folderName, subfolders, filenames in os.walk('Data'):\n",
    "    print('The current folder is ' + folderName)\n",
    "    for subfolder in subfolders:\n",
    "        print('SUBFOLDER OF ' + folderName + ': ' + subfolder)\n",
    "    for filename in filenames:\n",
    "        print('FILE INSIDE ' + folderName + ': '+ filename)\n",
    "        print(str(Path(folderName,filename)))\n",
    "        with open(str(Path(folderName,filename)),mode='rb') as file:\n",
    "            StarterLine = file.readline(50)\n",
    "            if '\\\\xff\\\\x81' in str(StarterLine):\n",
    "                print('Found Digar Starter String in '+filename)\n",
    "                print('     '+str(StarterLine))\n",
    "            \n",
    "            \n",
    "    print('')"
   ]
  },
  {
   "cell_type": "code",
   "execution_count": null,
   "id": "4fd4dcac",
   "metadata": {},
   "outputs": [],
   "source": []
  },
  {
   "cell_type": "code",
   "execution_count": null,
   "id": "9b1878d4",
   "metadata": {},
   "outputs": [],
   "source": []
  },
  {
   "cell_type": "code",
   "execution_count": null,
   "id": "cd3679b2",
   "metadata": {},
   "outputs": [],
   "source": []
  }
 ],
 "metadata": {
  "kernelspec": {
   "display_name": "Python 3 (ipykernel)",
   "language": "python",
   "name": "python3"
  },
  "language_info": {
   "codemirror_mode": {
    "name": "ipython",
    "version": 3
   },
   "file_extension": ".py",
   "mimetype": "text/x-python",
   "name": "python",
   "nbconvert_exporter": "python",
   "pygments_lexer": "ipython3",
   "version": "3.9.13"
  }
 },
 "nbformat": 4,
 "nbformat_minor": 5
}
