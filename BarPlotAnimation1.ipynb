{
 "cells": [
  {
   "cell_type": "code",
   "execution_count": 5,
   "id": "802433b3-814e-4e28-a25b-b309c8845696",
   "metadata": {},
   "outputs": [],
   "source": [
    "from matplotlib import animation\n",
    "import matplotlib.pyplot as plt\n",
    "from matplotlib.animation import FuncAnimation\n",
    "import seaborn as sns"
   ]
  },
  {
   "cell_type": "code",
   "execution_count": 6,
   "id": "b2eac837-ddd6-412d-b5c2-b73b3cacdd8d",
   "metadata": {},
   "outputs": [],
   "source": [
    "%matplotlib qt\n",
    "fig = plt.figure(figsize=(8,6))\n",
    "axes = fig.add_subplot(1,1,1)\n",
    "axes.set_ylim(0, 150)\n",
    "plt.style.use(\"seaborn\")\n",
    "\n",
    "lst1=[1, 2, 3, 4, 5, 6, 7, 8, 9, 10, 11, 12, 13, 14, 15 ]\n",
    "lst2=[0, 5, 10, 15, 20, 25, 30, 35, 40, 50, 60, 70, 80, 90, 100]"
   ]
  },
  {
   "cell_type": "code",
   "execution_count": 7,
   "id": "aafd8c6f-fbbf-4982-8bb8-307cc2ac4d33",
   "metadata": {},
   "outputs": [],
   "source": [
    "palette = list(reversed(sns.color_palette(\"seismic\", 2).as_hex()))\n",
    "\n",
    "y1, y2, = [], []\n",
    "def animate(i):\n",
    "    y1=lst1[i]\n",
    "    y2=lst2[i]\n",
    "    \n",
    "    plt.bar([\"one\", \"two\"], [y1,y2], color=palette)"
   ]
  },
  {
   "cell_type": "code",
   "execution_count": 8,
   "id": "4ff86680-f66b-4da8-bbcf-9a93de7b78df",
   "metadata": {},
   "outputs": [
    {
     "name": "stderr",
     "output_type": "stream",
     "text": [
      "/opt/anaconda3/lib/python3.9/site-packages/matplotlib/animation.py:887: UserWarning: Animation was deleted without rendering anything. This is most likely not intended. To prevent deletion, assign the Animation to a variable, e.g. `anim`, that exists until you have outputted the Animation using `plt.show()` or `anim.save()`.\n",
      "  warnings.warn(\n"
     ]
    }
   ],
   "source": [
    "plt.title(\"Some Title, Year: {} \".format(5000), color=(\"blue\"))\n",
    "ani = FuncAnimation(fig, animate, interval=100)"
   ]
  },
  {
   "cell_type": "code",
   "execution_count": null,
   "id": "9e93384b-2341-4295-b050-42a604a54c4e",
   "metadata": {},
   "outputs": [],
   "source": []
  }
 ],
 "metadata": {
  "kernelspec": {
   "display_name": "Python 3 (ipykernel)",
   "language": "python",
   "name": "python3"
  },
  "language_info": {
   "codemirror_mode": {
    "name": "ipython",
    "version": 3
   },
   "file_extension": ".py",
   "mimetype": "text/x-python",
   "name": "python",
   "nbconvert_exporter": "python",
   "pygments_lexer": "ipython3",
   "version": "3.9.13"
  }
 },
 "nbformat": 4,
 "nbformat_minor": 5
}
